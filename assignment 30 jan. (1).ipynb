{
 "cells": [
  {
   "cell_type": "markdown",
   "id": "83048f62-d5eb-4956-a997-9e7fbc0e96a4",
   "metadata": {},
   "source": [
    "#Soultion of Qs.1\n"
   ]
  },
  {
   "cell_type": "code",
   "execution_count": 1,
   "id": "d89d2dcc-9133-4403-9e0f-bfa65a8689fb",
   "metadata": {},
   "outputs": [
    {
     "name": "stdin",
     "output_type": "stream",
     "text": [
      "enter your marks  55\n"
     ]
    },
    {
     "name": "stdout",
     "output_type": "stream",
     "text": [
      "you will get the grade D\n"
     ]
    }
   ],
   "source": [
    "marks =int(input(\"enter your marks \"))\n",
    "if marks>=90:\n",
    "    print(\"you will get the grade A\")\n",
    "elif marks >80 and marks<90:\n",
    "    print(\"you will get the grade B\")\n",
    "elif marks >=60 and marks<80:\n",
    "    print(\"you will get the grade C\")\n",
    "else:\n",
    "    print(\"you will get the grade D\")\n",
    "    "
   ]
  },
  {
   "cell_type": "code",
   "execution_count": 2,
   "id": "535b9bf8-7cb0-43b9-9813-0feb9954954e",
   "metadata": {},
   "outputs": [
    {
     "data": {
      "text/plain": [
       "int"
      ]
     },
     "execution_count": 2,
     "metadata": {},
     "output_type": "execute_result"
    }
   ],
   "source": [
    "\n",
    "type(marks)"
   ]
  },
  {
   "cell_type": "markdown",
   "id": "33f25f0e-26c2-4698-a8c6-b67d11f94b59",
   "metadata": {},
   "source": [
    "#Solution of QS.2"
   ]
  },
  {
   "cell_type": "code",
   "execution_count": 2,
   "id": "74e0e47e-aa37-4019-b494-a11057efc54a",
   "metadata": {},
   "outputs": [
    {
     "name": "stdin",
     "output_type": "stream",
     "text": [
      "enter price 25000\n"
     ]
    },
    {
     "name": "stdout",
     "output_type": "stream",
     "text": [
      "i paid 5% road tax\n"
     ]
    }
   ],
   "source": [
    "price=int(input(\"enter price\"))\n",
    "if price > 100000:\n",
    "    print(\"i paid 15% road tax\")\n",
    "elif price >50000 and price<100000:\n",
    "    print(\"i paid 10% road tax\")\n",
    "else:\n",
    "    print(\"i paid 5% road tax\")\n",
    "    \n"
   ]
  },
  {
   "cell_type": "markdown",
   "id": "2e24a172-7e9b-486c-accf-e22169181e6a",
   "metadata": {},
   "source": [
    "#Solution of QS.3\n"
   ]
  },
  {
   "cell_type": "code",
   "execution_count": 4,
   "id": "2f352107-7cfe-4b3a-8a43-ed5b14bf9dd5",
   "metadata": {},
   "outputs": [
    {
     "name": "stdin",
     "output_type": "stream",
     "text": [
      "enter a city agra\n"
     ]
    },
    {
     "name": "stdout",
     "output_type": "stream",
     "text": [
      "Taj Mahal\n"
     ]
    }
   ],
   "source": [
    "city = input(\"enter a city\")\n",
    "if city == \"Delhi\":\n",
    "    print(\"Red Fort\")\n",
    "elif city == \"agra\":\n",
    "    print(\"Taj Mahal\")\n",
    "elif city == \"Jaipur\":\n",
    "    print(\"Jai Mahal\")"
   ]
  },
  {
   "cell_type": "markdown",
   "id": "045254d4-9d2a-49f6-a108-dc65e595de79",
   "metadata": {},
   "source": [
    "#Solution of Qs.4"
   ]
  },
  {
   "cell_type": "code",
   "execution_count": 7,
   "id": "207db7ab-96b6-4a3b-bdf4-b8f8aedfaa45",
   "metadata": {},
   "outputs": [
    {
     "name": "stdin",
     "output_type": "stream",
     "text": [
      "enter your number 6\n"
     ]
    },
    {
     "name": "stdout",
     "output_type": "stream",
     "text": [
      "it is divisible by 3\n"
     ]
    }
   ],
   "source": [
    "n = int(input(\"enter your number\"))\n",
    "if n <=10:\n",
    "    print(\"it is divisible by 3\")\n",
    "\n"
   ]
  },
  {
   "cell_type": "markdown",
   "id": "df70df56-0187-44b4-8965-5971aa806168",
   "metadata": {},
   "source": [
    "#Solution of Qs.5"
   ]
  },
  {
   "cell_type": "code",
   "execution_count": 3,
   "id": "4730d44e-50ae-4360-866d-dab46d9c746d",
   "metadata": {},
   "outputs": [
    {
     "name": "stdout",
     "output_type": "stream",
     "text": [
      "1\n",
      "2\n",
      "3\n",
      "4\n",
      "5\n",
      "6\n",
      "7\n",
      "8\n",
      "9\n",
      "10\n"
     ]
    }
   ],
   "source": [
    "a=1\n",
    "\n",
    "\n",
    "while a <=10:\n",
    "    print(a)\n",
    "    a=a+1"
   ]
  },
  {
   "cell_type": "markdown",
   "id": "895c071f-6e21-4845-bdbf-d81670ac5305",
   "metadata": {},
   "source": [
    "Descripition =A while loop evalutes the condition. If the condition evalutes to True, the code inside the while loop\n",
    "is executed. condition is evaluated again. This process continues until the condition is False and when condition evaluates to\n",
    "False , the loop stops."
   ]
  },
  {
   "cell_type": "markdown",
   "id": "54484102-8941-46d6-9825-d29e03614854",
   "metadata": {},
   "source": [
    "#Solution of Qs.7"
   ]
  },
  {
   "cell_type": "code",
   "execution_count": 1,
   "id": "a5c757b9-220c-46e7-9518-0349686cfade",
   "metadata": {},
   "outputs": [
    {
     "name": "stdin",
     "output_type": "stream",
     "text": [
      "enter the number: 10\n"
     ]
    },
    {
     "name": "stdout",
     "output_type": "stream",
     "text": [
      "10\n",
      "9\n",
      "8\n",
      "7\n",
      "6\n",
      "5\n",
      "4\n",
      "3\n",
      "2\n",
      "1\n"
     ]
    }
   ],
   "source": [
    "n= int(input(\"enter the number:\"))\n",
    "while n >=1:\n",
    "    print(n)\n",
    "    n= n-1\n",
    "    \n",
    "   \n"
   ]
  },
  {
   "cell_type": "markdown",
   "id": "ca151879-f0b4-49f0-abb4-364c9b6e84c3",
   "metadata": {},
   "source": [
    "# solution of Qs.8"
   ]
  },
  {
   "cell_type": "code",
   "execution_count": 3,
   "id": "f8469ad7-fba9-4842-8445-98020a822f45",
   "metadata": {},
   "outputs": [
    {
     "name": "stdin",
     "output_type": "stream",
     "text": [
      "enter the number: 10\n"
     ]
    },
    {
     "name": "stdout",
     "output_type": "stream",
     "text": [
      "10\n",
      "9\n",
      "8\n",
      "7\n",
      "6\n",
      "5\n",
      "4\n",
      "3\n",
      "2\n",
      "1\n"
     ]
    }
   ],
   "source": [
    "n= int(input(\"enter the number:\"))\n",
    "while n >=1:\n",
    "    print(n)\n",
    "    n= n-1\n",
    "    \n",
    "   \n",
    "\n"
   ]
  },
  {
   "cell_type": "code",
   "execution_count": null,
   "id": "6eea6c50-894d-4a3a-a752-916949c949b2",
   "metadata": {},
   "outputs": [],
   "source": []
  }
 ],
 "metadata": {
  "kernelspec": {
   "display_name": "Python 3 (ipykernel)",
   "language": "python",
   "name": "python3"
  },
  "language_info": {
   "codemirror_mode": {
    "name": "ipython",
    "version": 3
   },
   "file_extension": ".py",
   "mimetype": "text/x-python",
   "name": "python",
   "nbconvert_exporter": "python",
   "pygments_lexer": "ipython3",
   "version": "3.10.8"
  }
 },
 "nbformat": 4,
 "nbformat_minor": 5
}
